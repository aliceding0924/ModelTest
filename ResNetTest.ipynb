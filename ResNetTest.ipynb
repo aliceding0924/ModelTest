{
  "nbformat": 4,
  "nbformat_minor": 0,
  "metadata": {
    "colab": {
      "name": "ResNetTest.ipynb",
      "provenance": [],
      "collapsed_sections": [],
      "include_colab_link": true
    },
    "kernelspec": {
      "name": "python3",
      "display_name": "Python 3"
    },
    "language_info": {
      "name": "python"
    },
    "widgets": {
      "application/vnd.jupyter.widget-state+json": {
        "95679abbc2b9426da1b278e70f9db665": {
          "model_module": "@jupyter-widgets/controls",
          "model_name": "HBoxModel",
          "model_module_version": "1.5.0",
          "state": {
            "_view_name": "HBoxView",
            "_dom_classes": [],
            "_model_name": "HBoxModel",
            "_view_module": "@jupyter-widgets/controls",
            "_model_module_version": "1.5.0",
            "_view_count": null,
            "_view_module_version": "1.5.0",
            "box_style": "",
            "layout": "IPY_MODEL_a57cdd6d6598404fb01aee1802589221",
            "_model_module": "@jupyter-widgets/controls",
            "children": [
              "IPY_MODEL_5e16340a75494cea8e9dd73c3e6d9c0f",
              "IPY_MODEL_ed7a4bcba5f74be4afe51623f1cbbe37",
              "IPY_MODEL_a7ff5a11ba6d473f92b47f206bd161af"
            ]
          }
        },
        "a57cdd6d6598404fb01aee1802589221": {
          "model_module": "@jupyter-widgets/base",
          "model_name": "LayoutModel",
          "model_module_version": "1.2.0",
          "state": {
            "_view_name": "LayoutView",
            "grid_template_rows": null,
            "right": null,
            "justify_content": null,
            "_view_module": "@jupyter-widgets/base",
            "overflow": null,
            "_model_module_version": "1.2.0",
            "_view_count": null,
            "flex_flow": null,
            "width": null,
            "min_width": null,
            "border": null,
            "align_items": null,
            "bottom": null,
            "_model_module": "@jupyter-widgets/base",
            "top": null,
            "grid_column": null,
            "overflow_y": null,
            "overflow_x": null,
            "grid_auto_flow": null,
            "grid_area": null,
            "grid_template_columns": null,
            "flex": null,
            "_model_name": "LayoutModel",
            "justify_items": null,
            "grid_row": null,
            "max_height": null,
            "align_content": null,
            "visibility": null,
            "align_self": null,
            "height": null,
            "min_height": null,
            "padding": null,
            "grid_auto_rows": null,
            "grid_gap": null,
            "max_width": null,
            "order": null,
            "_view_module_version": "1.2.0",
            "grid_template_areas": null,
            "object_position": null,
            "object_fit": null,
            "grid_auto_columns": null,
            "margin": null,
            "display": null,
            "left": null
          }
        },
        "5e16340a75494cea8e9dd73c3e6d9c0f": {
          "model_module": "@jupyter-widgets/controls",
          "model_name": "HTMLModel",
          "model_module_version": "1.5.0",
          "state": {
            "_view_name": "HTMLView",
            "style": "IPY_MODEL_00d11ca5698d4f3899bd38768aa2549e",
            "_dom_classes": [],
            "description": "",
            "_model_name": "HTMLModel",
            "placeholder": "​",
            "_view_module": "@jupyter-widgets/controls",
            "_model_module_version": "1.5.0",
            "value": "",
            "_view_count": null,
            "_view_module_version": "1.5.0",
            "description_tooltip": null,
            "_model_module": "@jupyter-widgets/controls",
            "layout": "IPY_MODEL_84c4e91904d94957b63cd932f43e070f"
          }
        },
        "ed7a4bcba5f74be4afe51623f1cbbe37": {
          "model_module": "@jupyter-widgets/controls",
          "model_name": "FloatProgressModel",
          "model_module_version": "1.5.0",
          "state": {
            "_view_name": "ProgressView",
            "style": "IPY_MODEL_51326e4442b947ba8237ca00319c56ef",
            "_dom_classes": [],
            "description": "",
            "_model_name": "FloatProgressModel",
            "bar_style": "success",
            "max": 170498071,
            "_view_module": "@jupyter-widgets/controls",
            "_model_module_version": "1.5.0",
            "value": 170498071,
            "_view_count": null,
            "_view_module_version": "1.5.0",
            "orientation": "horizontal",
            "min": 0,
            "description_tooltip": null,
            "_model_module": "@jupyter-widgets/controls",
            "layout": "IPY_MODEL_59984bd480af42649aa19bdeae763696"
          }
        },
        "a7ff5a11ba6d473f92b47f206bd161af": {
          "model_module": "@jupyter-widgets/controls",
          "model_name": "HTMLModel",
          "model_module_version": "1.5.0",
          "state": {
            "_view_name": "HTMLView",
            "style": "IPY_MODEL_9fc1b86870ae4a4bb230585882260e7d",
            "_dom_classes": [],
            "description": "",
            "_model_name": "HTMLModel",
            "placeholder": "​",
            "_view_module": "@jupyter-widgets/controls",
            "_model_module_version": "1.5.0",
            "value": " 170499072/? [00:02&lt;00:00, 70010352.16it/s]",
            "_view_count": null,
            "_view_module_version": "1.5.0",
            "description_tooltip": null,
            "_model_module": "@jupyter-widgets/controls",
            "layout": "IPY_MODEL_14430e3c2a19404e9bbb7c2d52ea1423"
          }
        },
        "00d11ca5698d4f3899bd38768aa2549e": {
          "model_module": "@jupyter-widgets/controls",
          "model_name": "DescriptionStyleModel",
          "model_module_version": "1.5.0",
          "state": {
            "_view_name": "StyleView",
            "_model_name": "DescriptionStyleModel",
            "description_width": "",
            "_view_module": "@jupyter-widgets/base",
            "_model_module_version": "1.5.0",
            "_view_count": null,
            "_view_module_version": "1.2.0",
            "_model_module": "@jupyter-widgets/controls"
          }
        },
        "84c4e91904d94957b63cd932f43e070f": {
          "model_module": "@jupyter-widgets/base",
          "model_name": "LayoutModel",
          "model_module_version": "1.2.0",
          "state": {
            "_view_name": "LayoutView",
            "grid_template_rows": null,
            "right": null,
            "justify_content": null,
            "_view_module": "@jupyter-widgets/base",
            "overflow": null,
            "_model_module_version": "1.2.0",
            "_view_count": null,
            "flex_flow": null,
            "width": null,
            "min_width": null,
            "border": null,
            "align_items": null,
            "bottom": null,
            "_model_module": "@jupyter-widgets/base",
            "top": null,
            "grid_column": null,
            "overflow_y": null,
            "overflow_x": null,
            "grid_auto_flow": null,
            "grid_area": null,
            "grid_template_columns": null,
            "flex": null,
            "_model_name": "LayoutModel",
            "justify_items": null,
            "grid_row": null,
            "max_height": null,
            "align_content": null,
            "visibility": null,
            "align_self": null,
            "height": null,
            "min_height": null,
            "padding": null,
            "grid_auto_rows": null,
            "grid_gap": null,
            "max_width": null,
            "order": null,
            "_view_module_version": "1.2.0",
            "grid_template_areas": null,
            "object_position": null,
            "object_fit": null,
            "grid_auto_columns": null,
            "margin": null,
            "display": null,
            "left": null
          }
        },
        "51326e4442b947ba8237ca00319c56ef": {
          "model_module": "@jupyter-widgets/controls",
          "model_name": "ProgressStyleModel",
          "model_module_version": "1.5.0",
          "state": {
            "_view_name": "StyleView",
            "_model_name": "ProgressStyleModel",
            "description_width": "",
            "_view_module": "@jupyter-widgets/base",
            "_model_module_version": "1.5.0",
            "_view_count": null,
            "_view_module_version": "1.2.0",
            "bar_color": null,
            "_model_module": "@jupyter-widgets/controls"
          }
        },
        "59984bd480af42649aa19bdeae763696": {
          "model_module": "@jupyter-widgets/base",
          "model_name": "LayoutModel",
          "model_module_version": "1.2.0",
          "state": {
            "_view_name": "LayoutView",
            "grid_template_rows": null,
            "right": null,
            "justify_content": null,
            "_view_module": "@jupyter-widgets/base",
            "overflow": null,
            "_model_module_version": "1.2.0",
            "_view_count": null,
            "flex_flow": null,
            "width": null,
            "min_width": null,
            "border": null,
            "align_items": null,
            "bottom": null,
            "_model_module": "@jupyter-widgets/base",
            "top": null,
            "grid_column": null,
            "overflow_y": null,
            "overflow_x": null,
            "grid_auto_flow": null,
            "grid_area": null,
            "grid_template_columns": null,
            "flex": null,
            "_model_name": "LayoutModel",
            "justify_items": null,
            "grid_row": null,
            "max_height": null,
            "align_content": null,
            "visibility": null,
            "align_self": null,
            "height": null,
            "min_height": null,
            "padding": null,
            "grid_auto_rows": null,
            "grid_gap": null,
            "max_width": null,
            "order": null,
            "_view_module_version": "1.2.0",
            "grid_template_areas": null,
            "object_position": null,
            "object_fit": null,
            "grid_auto_columns": null,
            "margin": null,
            "display": null,
            "left": null
          }
        },
        "9fc1b86870ae4a4bb230585882260e7d": {
          "model_module": "@jupyter-widgets/controls",
          "model_name": "DescriptionStyleModel",
          "model_module_version": "1.5.0",
          "state": {
            "_view_name": "StyleView",
            "_model_name": "DescriptionStyleModel",
            "description_width": "",
            "_view_module": "@jupyter-widgets/base",
            "_model_module_version": "1.5.0",
            "_view_count": null,
            "_view_module_version": "1.2.0",
            "_model_module": "@jupyter-widgets/controls"
          }
        },
        "14430e3c2a19404e9bbb7c2d52ea1423": {
          "model_module": "@jupyter-widgets/base",
          "model_name": "LayoutModel",
          "model_module_version": "1.2.0",
          "state": {
            "_view_name": "LayoutView",
            "grid_template_rows": null,
            "right": null,
            "justify_content": null,
            "_view_module": "@jupyter-widgets/base",
            "overflow": null,
            "_model_module_version": "1.2.0",
            "_view_count": null,
            "flex_flow": null,
            "width": null,
            "min_width": null,
            "border": null,
            "align_items": null,
            "bottom": null,
            "_model_module": "@jupyter-widgets/base",
            "top": null,
            "grid_column": null,
            "overflow_y": null,
            "overflow_x": null,
            "grid_auto_flow": null,
            "grid_area": null,
            "grid_template_columns": null,
            "flex": null,
            "_model_name": "LayoutModel",
            "justify_items": null,
            "grid_row": null,
            "max_height": null,
            "align_content": null,
            "visibility": null,
            "align_self": null,
            "height": null,
            "min_height": null,
            "padding": null,
            "grid_auto_rows": null,
            "grid_gap": null,
            "max_width": null,
            "order": null,
            "_view_module_version": "1.2.0",
            "grid_template_areas": null,
            "object_position": null,
            "object_fit": null,
            "grid_auto_columns": null,
            "margin": null,
            "display": null,
            "left": null
          }
        }
      }
    }
  },
  "cells": [
    {
      "cell_type": "markdown",
      "metadata": {
        "id": "view-in-github",
        "colab_type": "text"
      },
      "source": [
        "<a href=\"https://colab.research.google.com/github/aliceding0924/ModelTest/blob/alice/ResNetTest.ipynb\" target=\"_parent\"><img src=\"https://colab.research.google.com/assets/colab-badge.svg\" alt=\"Open In Colab\"/></a>"
      ]
    },
    {
      "cell_type": "code",
      "metadata": {
        "colab": {
          "base_uri": "https://localhost:8080/"
        },
        "id": "hPVaysIutuTx",
        "outputId": "a685601d-0284-45b7-d700-7ab78da0c242"
      },
      "source": [
        "from google.colab import drive\n",
        "drive.mount(\"/content/drive\")"
      ],
      "execution_count": 1,
      "outputs": [
        {
          "output_type": "stream",
          "name": "stdout",
          "text": [
            "Mounted at /content/drive\n"
          ]
        }
      ]
    },
    {
      "cell_type": "code",
      "metadata": {
        "id": "_hV_X60Ntw-A"
      },
      "source": [
        "import sys\n",
        "sys.path.append(\"/content/drive/MyDrive/Colab Notebooks/Model Test\")"
      ],
      "execution_count": null,
      "outputs": []
    },
    {
      "cell_type": "code",
      "metadata": {
        "id": "WEvrY4E7t9--"
      },
      "source": [
        "import torchvision\n",
        "import torch\n",
        "from torch import nn\n",
        "from torch.utils.data import DataLoader\n",
        "from torchvision import transforms\n",
        "import time\n",
        "\n",
        "from torchvision import models"
      ],
      "execution_count": 2,
      "outputs": []
    },
    {
      "cell_type": "code",
      "metadata": {
        "id": "Kgb3AGvBuK30"
      },
      "source": [
        "import os\n",
        "os.environ['CUDA_VISIBLE_DEVICES'] = '0'"
      ],
      "execution_count": 3,
      "outputs": []
    },
    {
      "cell_type": "code",
      "metadata": {
        "id": "u2UZW_5BuQKJ"
      },
      "source": [
        "import torchvision.models.resnet\n",
        "model = torchvision.models.resnet101()"
      ],
      "execution_count": 4,
      "outputs": []
    },
    {
      "cell_type": "code",
      "metadata": {
        "id": "TbpuyIQ-uWzx"
      },
      "source": [
        "# print(model)"
      ],
      "execution_count": null,
      "outputs": []
    },
    {
      "cell_type": "code",
      "metadata": {
        "id": "RcA7BvwaucXk",
        "colab": {
          "base_uri": "https://localhost:8080/",
          "height": 101,
          "referenced_widgets": [
            "95679abbc2b9426da1b278e70f9db665",
            "a57cdd6d6598404fb01aee1802589221",
            "5e16340a75494cea8e9dd73c3e6d9c0f",
            "ed7a4bcba5f74be4afe51623f1cbbe37",
            "a7ff5a11ba6d473f92b47f206bd161af",
            "00d11ca5698d4f3899bd38768aa2549e",
            "84c4e91904d94957b63cd932f43e070f",
            "51326e4442b947ba8237ca00319c56ef",
            "59984bd480af42649aa19bdeae763696",
            "9fc1b86870ae4a4bb230585882260e7d",
            "14430e3c2a19404e9bbb7c2d52ea1423"
          ]
        },
        "outputId": "90138728-e4b4-43b4-dddc-b7c4521fa304"
      },
      "source": [
        "train_datasets = torchvision.datasets.CIFAR10(\n",
        "    root = r'../data',\n",
        "    download=True,\n",
        "    train=True,\n",
        "    transform=transforms.ToTensor()\n",
        ")\n",
        "train_dataloader= DataLoader(\n",
        "    dataset=train_datasets,\n",
        "    batch_size=64\n",
        ")\n",
        "\n",
        "test_datasets = torchvision.datasets.CIFAR10(\n",
        "    root = r'../data',\n",
        "    train=False,\n",
        "    download=True,\n",
        "    transform=transforms.ToTensor()\n",
        ")\n",
        "test_dataloader = DataLoader(\n",
        "    dataset=test_datasets,\n",
        "    batch_size=64\n",
        ")"
      ],
      "execution_count": 5,
      "outputs": [
        {
          "output_type": "stream",
          "name": "stdout",
          "text": [
            "Downloading https://www.cs.toronto.edu/~kriz/cifar-10-python.tar.gz to ../data/cifar-10-python.tar.gz\n"
          ]
        },
        {
          "output_type": "display_data",
          "data": {
            "application/vnd.jupyter.widget-view+json": {
              "model_id": "95679abbc2b9426da1b278e70f9db665",
              "version_minor": 0,
              "version_major": 2
            },
            "text/plain": [
              "  0%|          | 0/170498071 [00:00<?, ?it/s]"
            ]
          },
          "metadata": {}
        },
        {
          "output_type": "stream",
          "name": "stdout",
          "text": [
            "Extracting ../data/cifar-10-python.tar.gz to ../data\n",
            "Files already downloaded and verified\n"
          ]
        }
      ]
    },
    {
      "cell_type": "code",
      "metadata": {
        "colab": {
          "base_uri": "https://localhost:8080/"
        },
        "id": "NTHmFO2BYNPg",
        "outputId": "050fcb9b-d424-4d66-f0c5-de4a366411ca"
      },
      "source": [
        "train_datasets"
      ],
      "execution_count": 6,
      "outputs": [
        {
          "output_type": "execute_result",
          "data": {
            "text/plain": [
              "Dataset CIFAR10\n",
              "    Number of datapoints: 50000\n",
              "    Root location: ../data\n",
              "    Split: Train\n",
              "    StandardTransform\n",
              "Transform: ToTensor()"
            ]
          },
          "metadata": {},
          "execution_count": 6
        }
      ]
    },
    {
      "cell_type": "code",
      "metadata": {
        "id": "bAoisTbqudFq",
        "colab": {
          "base_uri": "https://localhost:8080/"
        },
        "outputId": "a5930914-4285-461d-ae0c-bfc6fdc26050"
      },
      "source": [
        "train_datasets_size = len(train_datasets)\n",
        "test_datasets_size = len(test_datasets)\n",
        "print(\"训练集数量为：{}\".format(train_datasets_size))\n",
        "print(\"测试集数量为：{}\".format(test_datasets_size))"
      ],
      "execution_count": 7,
      "outputs": [
        {
          "output_type": "stream",
          "name": "stdout",
          "text": [
            "训练集数量为：50000\n",
            "测试集数量为：10000\n"
          ]
        }
      ]
    },
    {
      "cell_type": "code",
      "metadata": {
        "id": "4Hd7oracufsK",
        "colab": {
          "base_uri": "https://localhost:8080/"
        },
        "outputId": "d198b003-a2a8-4d5a-8473-fc25e77d01cd"
      },
      "source": [
        "runing_mode = \"gpu\" # cpu,gpu, gpus\n",
        "if runing_mode == \"gpu\" and torch.cuda.is_available():\n",
        "    print(\"use cuda\")\n",
        "    device = torch.device(\"cuda\")\n",
        "else:\n",
        "    print(\"use cpu\")\n",
        "    device = torch.device(\"cpu\")"
      ],
      "execution_count": 8,
      "outputs": [
        {
          "output_type": "stream",
          "name": "stdout",
          "text": [
            "use cpu\n"
          ]
        }
      ]
    },
    {
      "cell_type": "code",
      "metadata": {
        "id": "RFDzmtrQuh0R"
      },
      "source": [
        "loss_fn = nn.CrossEntropyLoss()\n",
        "loss_fn.to(device)\n",
        "learning_rate = 1e-2\n",
        "optim = torch.optim.SGD(model.parameters(), lr=learning_rate)"
      ],
      "execution_count": 9,
      "outputs": []
    },
    {
      "cell_type": "code",
      "metadata": {
        "id": "TbirHh6sukLT",
        "colab": {
          "base_uri": "https://localhost:8080/"
        },
        "outputId": "516066c9-5d41-4059-edf1-446db5c01a73"
      },
      "source": [
        "epoch = 2\n",
        "train_step, test_step = 0, 0\n",
        "for i in range(epoch):\n",
        "    print(\"~~~~~~~~~~~~第{}轮训练开始~~~~~~~~~~~\".format(i+1))\n",
        "    start = time.time()\n",
        "    model.train()\n",
        "    for data in train_dataloader:\n",
        "        imgs, targets = data\n",
        "        imgs, targets = imgs.to(device), targets.to(device)\n",
        "        output = model(imgs)\n",
        "        loss = loss_fn(output, targets)\n",
        "\n",
        "        optim.zero_grad()\n",
        "        loss.backward()\n",
        "        optim.step()\n",
        "\n",
        "        train_step += 1\n",
        "        if train_step % 200 == 0:\n",
        "            print(\"第{}次训练，loss={:.3f}\".format(train_step, loss.item()))\n",
        "    #\n",
        "    model.eval()\n",
        "    with torch.no_grad():\n",
        "        test_loss, true_num = 0, 0\n",
        "        for data in test_dataloader:\n",
        "            imgs, targets = data\n",
        "            imgs, targets = imgs.to(device), targets.to(device)\n",
        "            output = model(imgs)\n",
        "            test_loss += loss_fn(output, targets)\n",
        "            true_num += (output.argmax(1) == targets).sum()\n",
        "    end = time.time()\n",
        "    print(\"第{}轮测试集上的loss:{:.3f}, 正确率为:{:.3f}%,耗时:{:.3f}\".format(test_step+1, test_loss.item(), 100 * true_num / test_datasets_size, end-start))\n",
        "    test_step += 1"
      ],
      "execution_count": 10,
      "outputs": [
        {
          "output_type": "stream",
          "name": "stdout",
          "text": [
            "~~~~~~~~~~~~第1轮训练开始~~~~~~~~~~~\n",
            "第200次训练，loss=2.631\n",
            "第400次训练，loss=2.430\n",
            "第600次训练，loss=1.901\n",
            "第1轮测试集上的loss:423.686, 正确率为:20.980%,耗时:2692.499\n",
            "~~~~~~~~~~~~第2轮训练开始~~~~~~~~~~~\n",
            "第800次训练，loss=1.702\n",
            "第1000次训练，loss=1.789\n",
            "第1200次训练，loss=1.664\n",
            "第1400次训练，loss=1.644\n",
            "第2轮测试集上的loss:324.932, 正确率为:31.790%,耗时:2715.918\n"
          ]
        }
      ]
    }
  ]
}